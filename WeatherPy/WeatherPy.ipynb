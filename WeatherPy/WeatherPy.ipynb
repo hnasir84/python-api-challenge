{
 "cells": [
  {
   "cell_type": "markdown",
   "metadata": {},
   "source": [
    "# WeatherPy\n",
    "----\n",
    "\n",
    "#### Note\n",
    "* Instructions have been included for each segment. You do not have to follow them exactly, but they are included to help you think through the steps."
   ]
  },
  {
   "cell_type": "code",
   "execution_count": 14,
   "metadata": {
    "scrolled": true
   },
   "outputs": [],
   "source": [
    "# Dependencies and Setup\n",
    "import matplotlib.pyplot as plt\n",
    "import pandas as pd\n",
    "import numpy as np\n",
    "import requests\n",
    "import time\n",
    "from scipy.stats import linregress\n",
    "\n",
    "# Import API key\n",
    "from api_keys import weather_api_key\n",
    "\n",
    "# Incorporated citipy to determine city based on latitude and longitude\n",
    "from citipy import citipy\n",
    "\n",
    "# Output File (CSV)\n",
    "output_data_file = \"output_data/cities_weather.csv\"\n",
    "\n",
    "# Range of latitudes and longitudes\n",
    "lat_range = (-90, 90)\n",
    "lng_range = (-180, 180)"
   ]
  },
  {
   "cell_type": "markdown",
   "metadata": {},
   "source": [
    "## Generate Cities List"
   ]
  },
  {
   "cell_type": "code",
   "execution_count": 28,
   "metadata": {
    "scrolled": true
   },
   "outputs": [
    {
     "data": {
      "text/plain": [
       "651"
      ]
     },
     "execution_count": 28,
     "metadata": {},
     "output_type": "execute_result"
    }
   ],
   "source": [
    "# List for holding lat_lngs and cities\n",
    "lat_lngs = []\n",
    "cities = []\n",
    "\n",
    "# Create a set of random lat and lng combinations\n",
    "lats = np.random.uniform(lat_range[0], lat_range[1], size=1500)\n",
    "lngs = np.random.uniform(lng_range[0], lng_range[1], size=1500)\n",
    "lat_lngs = zip(lats, lngs)\n",
    "\n",
    "# Identify nearest city for each lat, lng combination\n",
    "for lat_lng in lat_lngs:\n",
    "    city = citipy.nearest_city(lat_lng[0], lat_lng[1]).city_name\n",
    "    \n",
    "    # If the city is unique, then add it to a our cities list\n",
    "    if city not in cities:\n",
    "        cities.append(city)\n",
    "\n",
    "# Print the city count to confirm sufficient count\n",
    "len(cities)\n"
   ]
  },
  {
   "cell_type": "markdown",
   "metadata": {},
   "source": [
    "### Perform API Calls\n",
    "* Perform a weather check on each city using a series of successive API calls.\n",
    "* Include a print log of each city as it'sbeing processed (with the city number and city name).\n"
   ]
  },
  {
   "cell_type": "code",
   "execution_count": 30,
   "metadata": {
    "scrolled": true
   },
   "outputs": [],
   "source": [
    "# set url and unit measurement\n",
    "\n",
    "url = \"http://api.openweathermap.org/data/2.5/weather?\"\n",
    "city = \"kodiak\"\n",
    "units = \"imperial\"\n",
    "\n",
    "# Build query URL\n",
    "queryURL = f\"{url}appid={weather_api_key}&units={units}&q={city}\"\n",
    "\n",
    "# Get weather data\n",
    "weatherResponse = requests.get(queryURL)\n",
    "weatherJSON = weatherResponse.json()\n"
   ]
  },
  {
   "cell_type": "code",
   "execution_count": 18,
   "metadata": {
    "scrolled": false
   },
   "outputs": [
    {
     "name": "stdout",
     "output_type": "stream",
     "text": [
      " processing record 1 of set 1 | karaul\n",
      "Missing field/result... skipping.\n",
      " processing record 2 of set 1 | cagayan de tawi-tawi\n",
      "Missing field/result... skipping.\n",
      " processing record 3 of set 1 | clyde river\n",
      " processing record 4 of set 1 | kapaa\n",
      " processing record 5 of set 1 | gavle\n",
      " processing record 6 of set 1 | mataura\n",
      " processing record 7 of set 1 | cayenne\n",
      " processing record 8 of set 1 | hermanus\n",
      " processing record 9 of set 1 | butaritari\n",
      " processing record 10 of set 1 | oranjestad\n",
      " processing record 11 of set 1 | viransehir\n",
      " processing record 12 of set 1 | ponta do sol\n",
      " processing record 13 of set 1 | seoul\n",
      " processing record 14 of set 1 | isangel\n",
      " processing record 15 of set 1 | rikitea\n",
      " processing record 16 of set 1 | busselton\n",
      " processing record 17 of set 1 | juneau\n",
      " processing record 18 of set 1 | vaini\n",
      " processing record 19 of set 1 | illoqqortoormiut\n",
      "Missing field/result... skipping.\n",
      " processing record 20 of set 1 | suntar\n",
      " processing record 21 of set 1 | bowen\n",
      " processing record 22 of set 1 | cape town\n",
      " processing record 23 of set 1 | qaanaaq\n",
      " processing record 24 of set 1 | hilo\n",
      " processing record 25 of set 1 | jujuy\n",
      "Missing field/result... skipping.\n",
      " processing record 26 of set 1 | new norfolk\n",
      " processing record 27 of set 1 | castro\n",
      " processing record 28 of set 1 | taoudenni\n",
      " processing record 29 of set 1 | wolnzach\n",
      " processing record 30 of set 1 | flinders\n",
      " processing record 31 of set 1 | ushuaia\n",
      " processing record 32 of set 1 | pangai\n",
      " processing record 33 of set 1 | hithadhoo\n",
      " processing record 34 of set 1 | benguela\n",
      " processing record 35 of set 1 | mantua\n",
      " processing record 36 of set 1 | tateyama\n",
      " processing record 37 of set 1 | saint-philippe\n",
      " processing record 38 of set 1 | lebu\n",
      " processing record 39 of set 1 | taolanaro\n",
      "Missing field/result... skipping.\n",
      " processing record 40 of set 1 | tasiilaq\n",
      " processing record 41 of set 1 | bonavista\n",
      " processing record 42 of set 1 | port alfred\n",
      " processing record 43 of set 1 | haines junction\n",
      " processing record 44 of set 1 | bluff\n",
      " processing record 45 of set 1 | beringovskiy\n",
      " processing record 46 of set 1 | punta arenas\n",
      " processing record 47 of set 1 | ocean city\n",
      " processing record 48 of set 1 | uyemskiy\n",
      " processing record 49 of set 1 | albany\n",
      " processing record 50 of set 1 | bandarbeyla\n",
      " processing record 1 of set 2 | amderma\n",
      "Missing field/result... skipping.\n",
      " processing record 2 of set 2 | sao felix do xingu\n",
      " processing record 3 of set 2 | bud\n",
      " processing record 4 of set 2 | tuktoyaktuk\n",
      " processing record 5 of set 2 | georgetown\n",
      " processing record 6 of set 2 | esperance\n",
      " processing record 7 of set 2 | atuona\n",
      " processing record 8 of set 2 | dunedin\n",
      " processing record 9 of set 2 | cherskiy\n",
      " processing record 10 of set 2 | bengkulu\n",
      " processing record 11 of set 2 | mokhsogollokh\n",
      " processing record 12 of set 2 | chardara\n",
      " processing record 13 of set 2 | jamestown\n",
      " processing record 14 of set 2 | huarmey\n",
      " processing record 15 of set 2 | tornio\n",
      " processing record 16 of set 2 | mahebourg\n",
      " processing record 17 of set 2 | ambanja\n",
      " processing record 18 of set 2 | yellowknife\n",
      " processing record 19 of set 2 | kosh-agach\n",
      " processing record 20 of set 2 | sorong\n",
      " processing record 21 of set 2 | lake havasu city\n",
      " processing record 22 of set 2 | east london\n",
      " processing record 23 of set 2 | klaksvik\n",
      " processing record 24 of set 2 | vyazma\n",
      " processing record 25 of set 2 | batagay-alyta\n",
      " processing record 26 of set 2 | grindavik\n",
      " processing record 27 of set 2 | mys shmidta\n",
      "Missing field/result... skipping.\n",
      " processing record 28 of set 2 | tiksi\n",
      " processing record 29 of set 2 | kutum\n",
      " processing record 30 of set 2 | pisco\n",
      " processing record 31 of set 2 | iisalmi\n",
      " processing record 32 of set 2 | marawi\n",
      " processing record 33 of set 2 | utiroa\n",
      "Missing field/result... skipping.\n",
      " processing record 34 of set 2 | codrington\n",
      " processing record 35 of set 2 | santiago\n",
      " processing record 36 of set 2 | acapulco\n",
      " processing record 37 of set 2 | pevek\n",
      " processing record 38 of set 2 | muzhi\n",
      " processing record 39 of set 2 | casper\n",
      " processing record 40 of set 2 | raudeberg\n",
      " processing record 41 of set 2 | hasaki\n",
      " processing record 42 of set 2 | tautira\n",
      " processing record 43 of set 2 | los llanos de aridane\n",
      " processing record 44 of set 2 | meulaboh\n",
      " processing record 45 of set 2 | leningradskiy\n",
      " processing record 46 of set 2 | faanui\n",
      " processing record 47 of set 2 | markova\n",
      " processing record 48 of set 2 | lyngdal\n",
      " processing record 49 of set 2 | victoria\n",
      " processing record 50 of set 2 | geraldton\n",
      " processing record 1 of set 3 | gat\n",
      " processing record 2 of set 3 | kavieng\n",
      " processing record 3 of set 3 | bamiantong\n",
      " processing record 4 of set 3 | athabasca\n",
      " processing record 5 of set 3 | padang\n",
      " processing record 6 of set 3 | portland\n",
      " processing record 7 of set 3 | belushya guba\n",
      "Missing field/result... skipping.\n",
      " processing record 8 of set 3 | yumen\n",
      " processing record 9 of set 3 | carballo\n",
      " processing record 10 of set 3 | norman wells\n",
      " processing record 11 of set 3 | thompson\n",
      " processing record 12 of set 3 | la ronge\n",
      " processing record 13 of set 3 | sirnak\n",
      " processing record 14 of set 3 | staroaleyskoye\n",
      " processing record 15 of set 3 | kamaishi\n",
      " processing record 16 of set 3 | palabuhanratu\n",
      "Missing field/result... skipping.\n",
      " processing record 17 of set 3 | torbay\n",
      " processing record 18 of set 3 | badou\n",
      " processing record 19 of set 3 | brae\n",
      " processing record 20 of set 3 | alofi\n",
      " processing record 21 of set 3 | niamey\n",
      " processing record 22 of set 3 | samusu\n",
      "Missing field/result... skipping.\n",
      " processing record 23 of set 3 | faya\n",
      " processing record 24 of set 3 | ulladulla\n",
      " processing record 25 of set 3 | cabo san lucas\n",
      " processing record 26 of set 3 | hobart\n",
      " processing record 27 of set 3 | khatanga\n",
      " processing record 28 of set 3 | fortuna\n",
      " processing record 29 of set 3 | nikolskoye\n",
      " processing record 30 of set 3 | trelew\n",
      " processing record 31 of set 3 | villa vazquez\n",
      "Missing field/result... skipping.\n",
      " processing record 32 of set 3 | honiara\n",
      " processing record 33 of set 3 | port shepstone\n",
      " processing record 34 of set 3 | madingou\n",
      " processing record 35 of set 3 | baruun-urt\n",
      " processing record 36 of set 3 | sorland\n",
      " processing record 37 of set 3 | wanparti\n",
      " processing record 38 of set 3 | ust-ilimsk\n",
      " processing record 39 of set 3 | cervo\n",
      " processing record 40 of set 3 | saskylakh\n",
      " processing record 41 of set 3 | halalo\n",
      "Missing field/result... skipping.\n",
      " processing record 42 of set 3 | quatre cocos\n",
      " processing record 43 of set 3 | barrow\n",
      " processing record 44 of set 3 | dingle\n",
      " processing record 45 of set 3 | ambilobe\n",
      " processing record 46 of set 3 | omsukchan\n",
      " processing record 47 of set 3 | puerto ayora\n",
      " processing record 48 of set 3 | zhigansk\n",
      " processing record 49 of set 3 | grand gaube\n",
      " processing record 50 of set 3 | chokurdakh\n",
      " processing record 1 of set 4 | bubaque\n",
      " processing record 2 of set 4 | mundo nuevo\n",
      " processing record 3 of set 4 | upernavik\n",
      " processing record 4 of set 4 | abu zabad\n",
      " processing record 5 of set 4 | kruisfontein\n",
      " processing record 6 of set 4 | dembi dolo\n",
      " processing record 7 of set 4 | kuusamo\n",
      " processing record 8 of set 4 | carnarvon\n",
      " processing record 9 of set 4 | nago\n",
      " processing record 10 of set 4 | te anau\n",
      " processing record 11 of set 4 | kaitangata\n",
      " processing record 12 of set 4 | dikson\n",
      " processing record 13 of set 4 | saint george\n",
      " processing record 14 of set 4 | katobu\n",
      " processing record 15 of set 4 | suluq\n",
      " processing record 16 of set 4 | sitka\n",
      " processing record 17 of set 4 | kahului\n",
      " processing record 18 of set 4 | port elizabeth\n",
      " processing record 19 of set 4 | jaru\n",
      " processing record 20 of set 4 | bull savanna\n",
      " processing record 21 of set 4 | bredasdorp\n",
      " processing record 22 of set 4 | grand river south east\n",
      "Missing field/result... skipping.\n",
      " processing record 23 of set 4 | the pas\n",
      " processing record 24 of set 4 | areosa\n",
      " processing record 25 of set 4 | kjollefjord\n",
      " processing record 26 of set 4 | attawapiskat\n",
      "Missing field/result... skipping.\n",
      " processing record 27 of set 4 | palana\n",
      " processing record 28 of set 4 | camapua\n",
      " processing record 29 of set 4 | iqaluit\n",
      " processing record 30 of set 4 | constitucion\n",
      " processing record 31 of set 4 | fort morgan\n",
      " processing record 32 of set 4 | provideniya\n"
     ]
    },
    {
     "name": "stdout",
     "output_type": "stream",
     "text": [
      " processing record 33 of set 4 | port lincoln\n",
      " processing record 34 of set 4 | hede\n",
      " processing record 35 of set 4 | oron\n",
      " processing record 36 of set 4 | barentsburg\n",
      "Missing field/result... skipping.\n",
      " processing record 37 of set 4 | bagotville\n",
      " processing record 38 of set 4 | burdur\n",
      " processing record 39 of set 4 | sento se\n",
      "Missing field/result... skipping.\n",
      " processing record 40 of set 4 | fairbanks\n",
      " processing record 41 of set 4 | at-bashi\n",
      " processing record 42 of set 4 | jizan\n",
      " processing record 43 of set 4 | santa lucia\n",
      " processing record 44 of set 4 | strezhevoy\n",
      " processing record 45 of set 4 | sao joao do piaui\n",
      " processing record 46 of set 4 | dudinka\n",
      " processing record 47 of set 4 | meadow lake\n",
      " processing record 48 of set 4 | brookhaven\n",
      " processing record 49 of set 4 | reitz\n",
      " processing record 50 of set 4 | mocuba\n",
      " processing record 1 of set 5 | sur\n",
      " processing record 2 of set 5 | tsihombe\n",
      "Missing field/result... skipping.\n",
      " processing record 3 of set 5 | avarua\n",
      " processing record 4 of set 5 | biloela\n",
      " processing record 5 of set 5 | sao joao da barra\n",
      " processing record 6 of set 5 | caravelas\n",
      " processing record 7 of set 5 | aranos\n",
      " processing record 8 of set 5 | opole\n",
      " processing record 9 of set 5 | sabha\n",
      " processing record 10 of set 5 | rio grande\n",
      " processing record 11 of set 5 | xuchang\n",
      " processing record 12 of set 5 | kodiak\n",
      " processing record 13 of set 5 | asau\n",
      " processing record 14 of set 5 | nizhneyansk\n",
      "Missing field/result... skipping.\n",
      " processing record 15 of set 5 | honningsvag\n",
      " processing record 16 of set 5 | den helder\n",
      " processing record 17 of set 5 | urusha\n",
      " processing record 18 of set 5 | ilulissat\n",
      " processing record 19 of set 5 | edd\n",
      " processing record 20 of set 5 | mehamn\n",
      " processing record 21 of set 5 | beloha\n",
      " processing record 22 of set 5 | sao filipe\n",
      " processing record 23 of set 5 | antalaha\n",
      " processing record 24 of set 5 | tecolutla\n",
      " processing record 25 of set 5 | tandil\n",
      " processing record 26 of set 5 | bloomfield\n",
      " processing record 27 of set 5 | bondo\n",
      " processing record 28 of set 5 | touros\n",
      " processing record 29 of set 5 | drayton valley\n",
      " processing record 30 of set 5 | mogadishu\n",
      " processing record 31 of set 5 | poum\n",
      " processing record 32 of set 5 | chuy\n",
      " processing record 33 of set 5 | evensk\n",
      " processing record 34 of set 5 | nairobi\n",
      " processing record 35 of set 5 | tuatapere\n",
      " processing record 36 of set 5 | bone\n",
      " processing record 37 of set 5 | bambous virieux\n",
      " processing record 38 of set 5 | tarudant\n",
      "Missing field/result... skipping.\n",
      " processing record 39 of set 5 | xining\n",
      " processing record 40 of set 5 | port hardy\n",
      " processing record 41 of set 5 | yekaterinovka\n",
      " processing record 42 of set 5 | talnakh\n",
      " processing record 43 of set 5 | westport\n",
      " processing record 44 of set 5 | nanortalik\n",
      " processing record 45 of set 5 | half moon bay\n",
      " processing record 46 of set 5 | longyearbyen\n",
      " processing record 47 of set 5 | tonekabon\n",
      " processing record 48 of set 5 | sakakah\n",
      " processing record 49 of set 5 | atherton\n",
      " processing record 50 of set 5 | tuggurt\n",
      "Missing field/result... skipping.\n",
      " processing record 1 of set 6 | talcahuano\n",
      " processing record 2 of set 6 | polis\n",
      " processing record 3 of set 6 | maceio\n",
      " processing record 4 of set 6 | rungata\n",
      "Missing field/result... skipping.\n",
      " processing record 5 of set 6 | richards bay\n",
      " processing record 6 of set 6 | souillac\n",
      " processing record 7 of set 6 | samalaeulu\n",
      "Missing field/result... skipping.\n",
      " processing record 8 of set 6 | lazaro cardenas\n",
      " processing record 9 of set 6 | pimentel\n",
      " processing record 10 of set 6 | saldanha\n",
      " processing record 11 of set 6 | usinsk\n",
      " processing record 12 of set 6 | san patricio\n",
      " processing record 13 of set 6 | coquimbo\n",
      " processing record 14 of set 6 | cidreira\n",
      " processing record 15 of set 6 | rocha\n",
      " processing record 16 of set 6 | princeton\n",
      " processing record 17 of set 6 | gizo\n",
      " processing record 18 of set 6 | menongue\n",
      " processing record 19 of set 6 | nemuro\n",
      " processing record 20 of set 6 | hit\n",
      " processing record 21 of set 6 | dong hoi\n",
      " processing record 22 of set 6 | umzimvubu\n",
      "Missing field/result... skipping.\n",
      " processing record 23 of set 6 | linhares\n",
      " processing record 24 of set 6 | nguiu\n",
      "Missing field/result... skipping.\n",
      " processing record 25 of set 6 | point fortin\n",
      " processing record 26 of set 6 | ximei\n",
      " processing record 27 of set 6 | paradwip\n",
      "Missing field/result... skipping.\n",
      " processing record 28 of set 6 | tura\n",
      " processing record 29 of set 6 | goba\n",
      " processing record 30 of set 6 | rawson\n",
      " processing record 31 of set 6 | kupang\n",
      " processing record 32 of set 6 | manokwari\n",
      " processing record 33 of set 6 | sechura\n",
      " processing record 34 of set 6 | kampot\n",
      " processing record 35 of set 6 | chaguanas\n",
      " processing record 36 of set 6 | bethel\n",
      " processing record 37 of set 6 | pangnirtung\n",
      " processing record 38 of set 6 | ribeira grande\n",
      " processing record 39 of set 6 | bambanglipuro\n",
      " processing record 40 of set 6 | chimbote\n",
      " processing record 41 of set 6 | san cristobal\n",
      " processing record 42 of set 6 | curuca\n",
      " processing record 43 of set 6 | vostok\n",
      " processing record 44 of set 6 | srikakulam\n",
      " processing record 45 of set 6 | praia da vitoria\n",
      " processing record 46 of set 6 | tarija\n",
      " processing record 47 of set 6 | san jose\n",
      " processing record 48 of set 6 | pskov\n",
      " processing record 49 of set 6 | plouzane\n",
      " processing record 50 of set 6 | ust-kuyga\n",
      " processing record 1 of set 7 | lodwar\n",
      " processing record 2 of set 7 | kavaratti\n",
      " processing record 3 of set 7 | ust-ordynskiy\n",
      " processing record 4 of set 7 | grand centre\n",
      "Missing field/result... skipping.\n",
      " processing record 5 of set 7 | arraial do cabo\n",
      " processing record 6 of set 7 | fengzhen\n",
      " processing record 7 of set 7 | banda aceh\n",
      " processing record 8 of set 7 | yar-sale\n",
      " processing record 9 of set 7 | mandera\n",
      " processing record 10 of set 7 | amahai\n",
      " processing record 11 of set 7 | rajampet\n",
      " processing record 12 of set 7 | hay river\n",
      " processing record 13 of set 7 | severo-kurilsk\n",
      " processing record 14 of set 7 | labuhan\n",
      " processing record 15 of set 7 | kuching\n",
      " processing record 16 of set 7 | lebyazhye\n",
      " processing record 17 of set 7 | lavrentiya\n",
      " processing record 18 of set 7 | san lorenzo\n",
      " processing record 19 of set 7 | plettenberg bay\n",
      " processing record 20 of set 7 | yakeshi\n",
      " processing record 21 of set 7 | nuevo ideal\n",
      " processing record 22 of set 7 | rio brilhante\n",
      " processing record 23 of set 7 | oranjemund\n",
      " processing record 24 of set 7 | dawlatabad\n",
      " processing record 25 of set 7 | mulege\n",
      " processing record 26 of set 7 | bahia honda\n",
      " processing record 27 of set 7 | hami\n",
      " processing record 28 of set 7 | byron bay\n",
      " processing record 29 of set 7 | brownsville\n",
      " processing record 30 of set 7 | tabiauea\n",
      "Missing field/result... skipping.\n",
      " processing record 31 of set 7 | zhanaozen\n",
      " processing record 32 of set 7 | san vicente\n",
      " processing record 33 of set 7 | porto novo\n",
      " processing record 34 of set 7 | nioro\n",
      " processing record 35 of set 7 | mar del plata\n",
      " processing record 36 of set 7 | jaen\n",
      " processing record 37 of set 7 | aasiaat\n",
      " processing record 38 of set 7 | gurgan\n",
      "Missing field/result... skipping.\n",
      " processing record 39 of set 7 | lucapa\n",
      " processing record 40 of set 7 | ambovombe\n",
      " processing record 41 of set 7 | santa clara\n",
      " processing record 42 of set 7 | vicuna\n",
      " processing record 43 of set 7 | moranbah\n",
      " processing record 44 of set 7 | alvik\n",
      " processing record 45 of set 7 | hofn\n",
      " processing record 46 of set 7 | keshan\n",
      "Missing field/result... skipping.\n",
      " processing record 47 of set 7 | wagar\n",
      " processing record 48 of set 7 | sulangan\n",
      " processing record 49 of set 7 | fort nelson\n",
      " processing record 50 of set 7 | chifeng\n",
      " processing record 1 of set 8 | floro\n",
      " processing record 2 of set 8 | sidhi\n",
      " processing record 3 of set 8 | salalah\n",
      " processing record 4 of set 8 | cabedelo\n",
      " processing record 5 of set 8 | nizwa\n",
      " processing record 6 of set 8 | husavik\n",
      " processing record 7 of set 8 | encheng\n",
      " processing record 8 of set 8 | filadelfia\n",
      " processing record 9 of set 8 | yenagoa\n",
      " processing record 10 of set 8 | malatap\n",
      " processing record 11 of set 8 | rodoc\n",
      " processing record 12 of set 8 | consuegra\n",
      " processing record 13 of set 8 | vigrestad\n",
      " processing record 14 of set 8 | san rafael\n",
      " processing record 15 of set 8 | jiuquan\n"
     ]
    },
    {
     "name": "stdout",
     "output_type": "stream",
     "text": [
      " processing record 16 of set 8 | pochutla\n",
      " processing record 17 of set 8 | guerrero negro\n",
      " processing record 18 of set 8 | petropavlovsk-kamchatskiy\n",
      " processing record 19 of set 8 | aklavik\n",
      " processing record 20 of set 8 | jawhar\n",
      " processing record 21 of set 8 | wilmington island\n",
      " processing record 22 of set 8 | palmer\n",
      " processing record 23 of set 8 | adrar\n",
      " processing record 24 of set 8 | olafsvik\n",
      " processing record 25 of set 8 | aboisso\n",
      " processing record 26 of set 8 | nantucket\n",
      " processing record 27 of set 8 | kiruna\n",
      " processing record 28 of set 8 | easton\n",
      " processing record 29 of set 8 | ordzhonikidze\n",
      " processing record 30 of set 8 | macaboboni\n",
      "Missing field/result... skipping.\n",
      " processing record 31 of set 8 | fonte boa\n",
      " processing record 32 of set 8 | marsh harbour\n",
      " processing record 33 of set 8 | axim\n",
      " processing record 34 of set 8 | jiayuguan\n",
      " processing record 35 of set 8 | merrill\n",
      " processing record 36 of set 8 | kinablangan\n",
      " processing record 37 of set 8 | airai\n",
      " processing record 38 of set 8 | broome\n",
      " processing record 39 of set 8 | deputatskiy\n",
      " processing record 40 of set 8 | bargal\n",
      "Missing field/result... skipping.\n",
      " processing record 41 of set 8 | puerto colombia\n",
      " processing record 42 of set 8 | dwarka\n",
      " processing record 43 of set 8 | nome\n",
      " processing record 44 of set 8 | stromness\n",
      " processing record 45 of set 8 | udachnyy\n",
      " processing record 46 of set 8 | bara\n",
      " processing record 47 of set 8 | bismil\n",
      " processing record 48 of set 8 | kogon\n",
      " processing record 49 of set 8 | mgandu\n",
      " processing record 50 of set 8 | zhangye\n",
      " processing record 1 of set 9 | ancud\n",
      " processing record 2 of set 9 | higuey\n",
      "Missing field/result... skipping.\n",
      " processing record 3 of set 9 | calabozo\n",
      " processing record 4 of set 9 | broken hill\n",
      " processing record 5 of set 9 | warqla\n",
      "Missing field/result... skipping.\n",
      " processing record 6 of set 9 | ust-nera\n",
      " processing record 7 of set 9 | roald\n",
      " processing record 8 of set 9 | lagoa\n",
      " processing record 9 of set 9 | krasnoselkup\n",
      " processing record 10 of set 9 | surgut\n",
      " processing record 11 of set 9 | adre\n",
      " processing record 12 of set 9 | orodara\n",
      " processing record 13 of set 9 | ugoofaaru\n",
      " processing record 14 of set 9 | pagudpud\n",
      " processing record 15 of set 9 | nishihara\n",
      " processing record 16 of set 9 | saint peters\n",
      " processing record 17 of set 9 | kaili\n",
      " processing record 18 of set 9 | verkhnyaya inta\n",
      " processing record 19 of set 9 | calafell\n",
      " processing record 20 of set 9 | kamloops\n",
      " processing record 21 of set 9 | mehran\n",
      " processing record 22 of set 9 | kelo\n",
      " processing record 23 of set 9 | bonthe\n",
      " processing record 24 of set 9 | marsa matruh\n",
      " processing record 25 of set 9 | sabzevar\n",
      " processing record 26 of set 9 | iranshahr\n",
      " processing record 27 of set 9 | kenai\n",
      " processing record 28 of set 9 | khandbari\n",
      " processing record 29 of set 9 | macomb\n",
      " processing record 30 of set 9 | itoman\n",
      " processing record 31 of set 9 | tulsipur\n",
      " processing record 32 of set 9 | sakaiminato\n",
      " processing record 33 of set 9 | bac lieu\n",
      " processing record 34 of set 9 | svetlogorsk\n",
      " processing record 35 of set 9 | weligama\n",
      " processing record 36 of set 9 | prince rupert\n",
      " processing record 37 of set 9 | mount isa\n",
      " processing record 38 of set 9 | miramar\n",
      " processing record 39 of set 9 | havoysund\n",
      " processing record 40 of set 9 | sinjar\n",
      " processing record 41 of set 9 | khasan\n",
      " processing record 42 of set 9 | saint-augustin\n",
      " processing record 43 of set 9 | borovoy\n",
      " processing record 44 of set 9 | katsuura\n",
      " processing record 45 of set 9 | sweetwater\n",
      " processing record 46 of set 9 | tawnat\n",
      "Missing field/result... skipping.\n",
      " processing record 47 of set 9 | vanimo\n",
      " processing record 48 of set 9 | kununurra\n",
      " processing record 49 of set 9 | lompoc\n",
      " processing record 50 of set 9 | tamworth\n",
      " processing record 1 of set 10 | north bend\n",
      " processing record 2 of set 10 | muros\n",
      " processing record 3 of set 10 | esfahan\n",
      " processing record 4 of set 10 | mandurah\n",
      " processing record 5 of set 10 | chernyshevskiy\n",
      " processing record 6 of set 10 | saint anthony\n",
      " processing record 7 of set 10 | vaitupu\n",
      "Missing field/result... skipping.\n",
      " processing record 8 of set 10 | auki\n",
      " processing record 9 of set 10 | atbasar\n",
      " processing record 10 of set 10 | dali\n",
      " processing record 11 of set 10 | buerarema\n",
      " processing record 12 of set 10 | mendahara\n",
      "Missing field/result... skipping.\n",
      " processing record 13 of set 10 | tumannyy\n",
      "Missing field/result... skipping.\n",
      " processing record 14 of set 10 | havelian\n",
      " processing record 15 of set 10 | lazarev\n",
      " processing record 16 of set 10 | puri\n",
      " processing record 17 of set 10 | san andres\n",
      " processing record 18 of set 10 | palmas bellas\n",
      " processing record 19 of set 10 | yulara\n",
      " processing record 20 of set 10 | ambon\n",
      " processing record 21 of set 10 | skjeberg\n",
      " processing record 22 of set 10 | domat\n",
      " processing record 23 of set 10 | neokhorion\n",
      " processing record 24 of set 10 | osmena\n",
      " processing record 25 of set 10 | am timan\n",
      " processing record 26 of set 10 | paucartambo\n",
      "Missing field/result... skipping.\n",
      " processing record 27 of set 10 | lixourion\n",
      " processing record 28 of set 10 | arrifes\n",
      " processing record 29 of set 10 | virginia beach\n",
      " processing record 30 of set 10 | naze\n",
      " processing record 31 of set 10 | marcona\n",
      "Missing field/result... skipping.\n",
      " processing record 32 of set 10 | santiago del estero\n",
      " processing record 33 of set 10 | general roca\n",
      " processing record 34 of set 10 | morant bay\n",
      " processing record 35 of set 10 | alta floresta\n",
      " processing record 36 of set 10 | namtsy\n",
      " processing record 37 of set 10 | dejen\n",
      " processing record 38 of set 10 | yarmouth\n",
      " processing record 39 of set 10 | lasa\n",
      " processing record 40 of set 10 | gushikawa\n",
      " processing record 41 of set 10 | bilibino\n",
      " processing record 42 of set 10 | saint-paul-les-dax\n",
      " processing record 43 of set 10 | swan river\n",
      " processing record 44 of set 10 | rumoi\n",
      " processing record 45 of set 10 | korhogo\n",
      " processing record 46 of set 10 | tovuz\n",
      " processing record 47 of set 10 | cap malheureux\n",
      " processing record 48 of set 10 | shimanovsk\n",
      " processing record 49 of set 10 | presidencia roque saenz pena\n",
      " processing record 50 of set 10 | finschhafen\n",
      " processing record 1 of set 11 | bathsheba\n",
      " processing record 2 of set 11 | shache\n",
      " processing record 3 of set 11 | chorozinho\n",
      " processing record 4 of set 11 | haysville\n",
      " processing record 5 of set 11 | la paz\n",
      " processing record 6 of set 11 | isla vista\n",
      " processing record 7 of set 11 | prikubanskiy\n",
      " processing record 8 of set 11 | bend\n",
      " processing record 9 of set 11 | careiro da varzea\n",
      " processing record 10 of set 11 | bhag\n",
      " processing record 11 of set 11 | artyk\n",
      "Missing field/result... skipping.\n",
      " processing record 12 of set 11 | louisbourg\n",
      "Missing field/result... skipping.\n",
      " processing record 13 of set 11 | nizhniy kuranakh\n",
      " processing record 14 of set 11 | viligili\n",
      "Missing field/result... skipping.\n",
      " processing record 15 of set 11 | houma\n",
      " processing record 16 of set 11 | ilo\n",
      " processing record 17 of set 11 | toliary\n",
      "Missing field/result... skipping.\n",
      " processing record 18 of set 11 | inhambane\n",
      " processing record 19 of set 11 | mazatlan\n",
      " processing record 20 of set 11 | robe\n",
      " processing record 21 of set 11 | surok\n",
      " processing record 22 of set 11 | yatou\n",
      " processing record 23 of set 11 | ariquemes\n",
      " processing record 24 of set 11 | vila franca do campo\n",
      " processing record 25 of set 11 | dandong\n",
      " processing record 26 of set 11 | el badari\n",
      "Missing field/result... skipping.\n",
      " processing record 27 of set 11 | marrakesh\n",
      " processing record 28 of set 11 | abnub\n",
      " processing record 29 of set 11 | gao\n",
      " processing record 30 of set 11 | riohacha\n",
      " processing record 31 of set 11 | tromso\n",
      " processing record 32 of set 11 | payson\n",
      " processing record 33 of set 11 | nelson bay\n",
      " processing record 34 of set 11 | tebingtinggi\n",
      " processing record 35 of set 11 | champerico\n",
      " processing record 36 of set 11 | isla mujeres\n",
      " processing record 37 of set 11 | locri\n",
      " processing record 38 of set 11 | batagay\n",
      " processing record 39 of set 11 | mizan teferi\n",
      " processing record 40 of set 11 | kisangani\n",
      " processing record 41 of set 11 | impfondo\n",
      " processing record 42 of set 11 | komsomolskiy\n",
      " processing record 43 of set 11 | taltal\n",
      " processing record 44 of set 11 | rafraf\n",
      " processing record 45 of set 11 | boueni\n"
     ]
    },
    {
     "name": "stdout",
     "output_type": "stream",
     "text": [
      " processing record 46 of set 11 | angoche\n",
      " processing record 47 of set 11 | ketchikan\n",
      " processing record 48 of set 11 | alyangula\n",
      " processing record 49 of set 11 | oussouye\n",
      " processing record 50 of set 11 | lorengau\n",
      " processing record 1 of set 12 | ranot\n",
      " processing record 2 of set 12 | jatiroto\n",
      " processing record 3 of set 12 | bordighera\n",
      " processing record 4 of set 12 | otukpo\n",
      " processing record 5 of set 12 | santiago de cao\n",
      " processing record 6 of set 12 | margate\n",
      " processing record 7 of set 12 | port blair\n",
      " processing record 8 of set 12 | fantan\n",
      " processing record 9 of set 12 | sangar\n",
      " processing record 10 of set 12 | sangmelima\n",
      " processing record 11 of set 12 | tigzirt\n",
      " processing record 12 of set 12 | porkhov\n",
      " processing record 13 of set 12 | teya\n",
      " processing record 14 of set 12 | bin qirdan\n",
      " processing record 15 of set 12 | armizonskoye\n",
      " processing record 16 of set 12 | abu kamal\n",
      " processing record 17 of set 12 | yerbogachen\n",
      " processing record 18 of set 12 | yamoussoukro\n",
      " processing record 19 of set 12 | ukholovo\n",
      " processing record 20 of set 12 | yirol\n",
      "Missing field/result... skipping.\n",
      " processing record 21 of set 12 | karpushikha\n",
      " processing record 22 of set 12 | trairi\n",
      " processing record 23 of set 12 | erfurt\n",
      " processing record 24 of set 12 | ginda\n",
      " processing record 25 of set 12 | tukrah\n",
      " processing record 26 of set 12 | porangatu\n",
      " processing record 27 of set 12 | narsaq\n",
      " processing record 28 of set 12 | burnie\n",
      " processing record 29 of set 12 | chapeco\n",
      " processing record 30 of set 12 | santa cruz\n",
      " processing record 31 of set 12 | chambas\n",
      " processing record 32 of set 12 | linchuan\n",
      "Missing field/result... skipping.\n",
      " processing record 33 of set 12 | trabzon\n",
      " processing record 34 of set 12 | camocim\n",
      " processing record 35 of set 12 | stolin\n",
      " processing record 36 of set 12 | owando\n",
      " processing record 37 of set 12 | karratha\n",
      " processing record 38 of set 12 | roma\n",
      " processing record 39 of set 12 | marystown\n",
      " processing record 40 of set 12 | eyrarbakki\n",
      " processing record 41 of set 12 | marco\n",
      " processing record 42 of set 12 | darhan\n",
      " processing record 43 of set 12 | ruatoria\n",
      "Missing field/result... skipping.\n",
      " processing record 44 of set 12 | batemans bay\n",
      " processing record 45 of set 12 | port keats\n",
      " processing record 46 of set 12 | zhengjiatun\n",
      " processing record 47 of set 12 | gamba\n",
      " processing record 48 of set 12 | rio gallegos\n",
      " processing record 49 of set 12 | asfi\n",
      " processing record 50 of set 12 | saleaula\n",
      "Missing field/result... skipping.\n",
      " processing record 1 of set 13 | setermoen\n",
      " processing record 2 of set 13 | bumba\n",
      " processing record 3 of set 13 | mount gambier\n",
      " processing record 4 of set 13 | harper\n",
      " processing record 5 of set 13 | kalagarh\n",
      " processing record 6 of set 13 | ihosy\n",
      " processing record 7 of set 13 | altay\n",
      " processing record 8 of set 13 | svolvaer\n",
      " processing record 9 of set 13 | kasongo-lunda\n",
      " processing record 10 of set 13 | urdoma\n",
      " processing record 11 of set 13 | paka\n",
      " processing record 12 of set 13 | svetlaya\n",
      " processing record 13 of set 13 | soyo\n",
      " processing record 14 of set 13 | townsville\n",
      " processing record 15 of set 13 | ngaoundere\n",
      " processing record 16 of set 13 | port hedland\n",
      " processing record 17 of set 13 | mitsamiouli\n",
      " processing record 18 of set 13 | chazuta\n"
     ]
    },
    {
     "data": {
      "text/plain": [
       "618"
      ]
     },
     "execution_count": 18,
     "metadata": {},
     "output_type": "execute_result"
    }
   ],
   "source": [
    "# set empty lists to grab The required pieces of data\n",
    "# identify the path to each data inside the retreived json\n",
    "\n",
    "City =[]\n",
    "Latitude = [] # weatherJSON['coord']['lat']\n",
    "longtitude = [] # weatherJSON['coord']['lon']\n",
    "Max_Temperature = [] # weatherJSON['main']['temp_max']\n",
    "Humidity = [] # # weatherJSON['main']['humidity']\n",
    "Cloudiness = [] # weatherJSON['clouds']['all']\n",
    "wind_Speed = [] # weatherJSON['wind']['speed']\n",
    "Country = []      # weatherJSON['sys']['country']\n",
    "DateTime = [] # weatherJSON['dt']\n",
    "\n",
    "# create counter variable to be able to group cities in groups of 50 as requested\n",
    "\n",
    "rec_count =1\n",
    "set_count =1\n",
    "\n",
    "\n",
    "# loop through the cities and grab the information needed for the lists\n",
    "for h, city in enumerate(cities):\n",
    "    \n",
    "    # group cities in group of 50s\n",
    "    \n",
    "    if( h % 50 == 0 and h>= 50):\n",
    "       \n",
    "    # rest the group every 50 counts of city\n",
    "        set_count +=1\n",
    "        rec_count =1\n",
    "    \n",
    "    # create end point url\n",
    "    queryURL = f\"{url}appid={weather_api_key}&units={units}&q={city}\"\n",
    "    \n",
    "    # print the log record as data is being retrieved\n",
    "    print(f\" processing record {rec_count} of set {set_count} | {city}\")\n",
    "    rec_count +=1\n",
    "    \n",
    "    try:\n",
    "        \n",
    "        \n",
    "        \n",
    "        \n",
    "      \n",
    "           # Access and retrieve the weather data\n",
    "        weatherResponse = requests.get(queryURL)\n",
    "        weatherJSON = weatherResponse.json()\n",
    "    \n",
    " \n",
    "       # Add a one second interval between queries to stay within API query limits\n",
    "        time.sleep(1)\n",
    "    \n",
    "    # add the info to the lists\n",
    "    # add exception rule incase data was not found\n",
    "        \n",
    "        \n",
    "        \n",
    "        City.append(city)   \n",
    "        Latitude.append(weatherJSON['coord']['lat'])\n",
    "        longtitude.append(weatherJSON['coord']['lon'])\n",
    "        Max_Temperature.append(weatherJSON['main']['temp_max'])\n",
    "        Humidity.append(weatherJSON['main']['humidity'])\n",
    "        Cloudiness.append(weatherJSON['clouds']['all'])\n",
    "        wind_Speed.append(weatherJSON['wind']['speed'])\n",
    "        Country.append(weatherJSON['sys']['country'])\n",
    "        DateTime.append(weatherJSON['dt'])\n",
    "        City.append(city)\n",
    "      \n",
    "          \n",
    "    \n",
    "        \n",
    "        \n",
    "    \n",
    "    except :\n",
    "        print(\"Missing field/result... skipping.\")\n",
    "        pass \n",
    "        \n",
    "\n",
    "#  show the data retrival is complete\n",
    "len(City)\n",
    "#print(\"--------------------------------------\\n \\t Data Retrival is Complete \\n --------------------------------------\")"
   ]
  },
  {
   "cell_type": "code",
   "execution_count": 43,
   "metadata": {
    "scrolled": true
   },
   "outputs": [
    {
     "data": {
      "text/html": [
       "<div>\n",
       "<style scoped>\n",
       "    .dataframe tbody tr th:only-of-type {\n",
       "        vertical-align: middle;\n",
       "    }\n",
       "\n",
       "    .dataframe tbody tr th {\n",
       "        vertical-align: top;\n",
       "    }\n",
       "\n",
       "    .dataframe thead th {\n",
       "        text-align: right;\n",
       "    }\n",
       "</style>\n",
       "<table border=\"1\" class=\"dataframe\">\n",
       "  <thead>\n",
       "    <tr style=\"text-align: right;\">\n",
       "      <th></th>\n",
       "      <th>City</th>\n",
       "      <th>Lat</th>\n",
       "      <th>Lng</th>\n",
       "      <th>Max Temp</th>\n",
       "      <th>Humidity</th>\n",
       "      <th>Cloudiness</th>\n",
       "      <th>Wind Speed</th>\n",
       "      <th>Country</th>\n",
       "      <th>Date</th>\n",
       "    </tr>\n",
       "  </thead>\n",
       "  <tbody>\n",
       "    <tr>\n",
       "      <th>0</th>\n",
       "      <td>karaul</td>\n",
       "      <td>70.4692</td>\n",
       "      <td>-68.5914</td>\n",
       "      <td>37.63</td>\n",
       "      <td>100.0</td>\n",
       "      <td>100.0</td>\n",
       "      <td>6.91</td>\n",
       "      <td>CA</td>\n",
       "      <td>1.658972e+09</td>\n",
       "    </tr>\n",
       "    <tr>\n",
       "      <th>1</th>\n",
       "      <td>cagayan de tawi-tawi</td>\n",
       "      <td>22.0752</td>\n",
       "      <td>-159.3190</td>\n",
       "      <td>85.98</td>\n",
       "      <td>64.0</td>\n",
       "      <td>40.0</td>\n",
       "      <td>16.11</td>\n",
       "      <td>US</td>\n",
       "      <td>1.658971e+09</td>\n",
       "    </tr>\n",
       "    <tr>\n",
       "      <th>2</th>\n",
       "      <td>clyde river</td>\n",
       "      <td>60.6745</td>\n",
       "      <td>17.1417</td>\n",
       "      <td>49.37</td>\n",
       "      <td>74.0</td>\n",
       "      <td>11.0</td>\n",
       "      <td>1.01</td>\n",
       "      <td>SE</td>\n",
       "      <td>1.658971e+09</td>\n",
       "    </tr>\n",
       "    <tr>\n",
       "      <th>3</th>\n",
       "      <td>kapaa</td>\n",
       "      <td>-46.1927</td>\n",
       "      <td>168.8643</td>\n",
       "      <td>47.48</td>\n",
       "      <td>99.0</td>\n",
       "      <td>100.0</td>\n",
       "      <td>3.02</td>\n",
       "      <td>NZ</td>\n",
       "      <td>1.658972e+09</td>\n",
       "    </tr>\n",
       "    <tr>\n",
       "      <th>4</th>\n",
       "      <td>gavle</td>\n",
       "      <td>4.9333</td>\n",
       "      <td>-52.3333</td>\n",
       "      <td>76.08</td>\n",
       "      <td>1.0</td>\n",
       "      <td>0.0</td>\n",
       "      <td>0.00</td>\n",
       "      <td>GF</td>\n",
       "      <td>1.658971e+09</td>\n",
       "    </tr>\n",
       "  </tbody>\n",
       "</table>\n",
       "</div>"
      ],
      "text/plain": [
       "                   City      Lat       Lng  Max Temp  Humidity  Cloudiness  \\\n",
       "0                karaul  70.4692  -68.5914     37.63     100.0       100.0   \n",
       "1  cagayan de tawi-tawi  22.0752 -159.3190     85.98      64.0        40.0   \n",
       "2           clyde river  60.6745   17.1417     49.37      74.0        11.0   \n",
       "3                 kapaa -46.1927  168.8643     47.48      99.0       100.0   \n",
       "4                 gavle   4.9333  -52.3333     76.08       1.0         0.0   \n",
       "\n",
       "   Wind Speed Country          Date  \n",
       "0        6.91      CA  1.658972e+09  \n",
       "1       16.11      US  1.658971e+09  \n",
       "2        1.01      SE  1.658971e+09  \n",
       "3        3.02      NZ  1.658972e+09  \n",
       "4        0.00      GF  1.658971e+09  "
      ]
     },
     "execution_count": 43,
     "metadata": {},
     "output_type": "execute_result"
    }
   ],
   "source": [
    "# Create a dictionary to hold cities weather data\n",
    "\n",
    "\n",
    "\n",
    "cities_weather = { \"City\":City,\n",
    "                   \"Lat\": Latitude,\n",
    "                   \"Lng\":longtitude,\n",
    "                   \"Max Temp\":Max_Temperature,\n",
    "                   \"Humidity\":Humidity,\n",
    "                   \"Cloudiness\":Cloudiness,\n",
    "                   \"Wind Speed\":wind_Speed,\n",
    "                   \"Country\":Country,\n",
    "                   \"Date\": DateTime}\n",
    "\n",
    "# Create data frame with the obtained list\n",
    "cities_weather_DF = pd.DataFrame(dict([(k,pd.Series(v)) for k,v in cities_weather.items()]))\n",
    "\n",
    "\n",
    "# clean the dataframe by droping na\n",
    "\n",
    "cities_weather_DF = cities_weather_DF.dropna()\n",
    "cities_weather_DF.head()\n"
   ]
  },
  {
   "cell_type": "markdown",
   "metadata": {},
   "source": [
    "### Convert Raw Data to DataFrame\n",
    "* Export the city data into a .csv.\n",
    "* Display the DataFrame"
   ]
  },
  {
   "cell_type": "code",
   "execution_count": 44,
   "metadata": {},
   "outputs": [],
   "source": [
    "#\n",
    "cities_weather_DF.to_csv(\"output_data/cities_weather.csv\", index=False, header=True)"
   ]
  },
  {
   "cell_type": "code",
   "execution_count": 45,
   "metadata": {},
   "outputs": [
    {
     "data": {
      "text/html": [
       "<div>\n",
       "<style scoped>\n",
       "    .dataframe tbody tr th:only-of-type {\n",
       "        vertical-align: middle;\n",
       "    }\n",
       "\n",
       "    .dataframe tbody tr th {\n",
       "        vertical-align: top;\n",
       "    }\n",
       "\n",
       "    .dataframe thead th {\n",
       "        text-align: right;\n",
       "    }\n",
       "</style>\n",
       "<table border=\"1\" class=\"dataframe\">\n",
       "  <thead>\n",
       "    <tr style=\"text-align: right;\">\n",
       "      <th></th>\n",
       "      <th>Lat</th>\n",
       "      <th>Lng</th>\n",
       "      <th>Max Temp</th>\n",
       "      <th>Humidity</th>\n",
       "      <th>Cloudiness</th>\n",
       "      <th>Wind Speed</th>\n",
       "      <th>Date</th>\n",
       "    </tr>\n",
       "  </thead>\n",
       "  <tbody>\n",
       "    <tr>\n",
       "      <th>count</th>\n",
       "      <td>5.000000</td>\n",
       "      <td>5.000000</td>\n",
       "      <td>5.000000</td>\n",
       "      <td>5.000000</td>\n",
       "      <td>5.00000</td>\n",
       "      <td>5.000000</td>\n",
       "      <td>5.000000e+00</td>\n",
       "    </tr>\n",
       "    <tr>\n",
       "      <th>mean</th>\n",
       "      <td>22.391900</td>\n",
       "      <td>-18.847540</td>\n",
       "      <td>59.308000</td>\n",
       "      <td>67.600000</td>\n",
       "      <td>50.20000</td>\n",
       "      <td>5.410000</td>\n",
       "      <td>1.658971e+09</td>\n",
       "    </tr>\n",
       "    <tr>\n",
       "      <th>std</th>\n",
       "      <td>46.866125</td>\n",
       "      <td>122.330433</td>\n",
       "      <td>20.623389</td>\n",
       "      <td>40.389355</td>\n",
       "      <td>47.75144</td>\n",
       "      <td>6.539881</td>\n",
       "      <td>1.185529e+02</td>\n",
       "    </tr>\n",
       "    <tr>\n",
       "      <th>min</th>\n",
       "      <td>-46.192700</td>\n",
       "      <td>-159.319000</td>\n",
       "      <td>37.630000</td>\n",
       "      <td>1.000000</td>\n",
       "      <td>0.00000</td>\n",
       "      <td>0.000000</td>\n",
       "      <td>1.658971e+09</td>\n",
       "    </tr>\n",
       "    <tr>\n",
       "      <th>25%</th>\n",
       "      <td>4.933300</td>\n",
       "      <td>-68.591400</td>\n",
       "      <td>47.480000</td>\n",
       "      <td>64.000000</td>\n",
       "      <td>11.00000</td>\n",
       "      <td>1.010000</td>\n",
       "      <td>1.658971e+09</td>\n",
       "    </tr>\n",
       "    <tr>\n",
       "      <th>50%</th>\n",
       "      <td>22.075200</td>\n",
       "      <td>-52.333300</td>\n",
       "      <td>49.370000</td>\n",
       "      <td>74.000000</td>\n",
       "      <td>40.00000</td>\n",
       "      <td>3.020000</td>\n",
       "      <td>1.658971e+09</td>\n",
       "    </tr>\n",
       "    <tr>\n",
       "      <th>75%</th>\n",
       "      <td>60.674500</td>\n",
       "      <td>17.141700</td>\n",
       "      <td>76.080000</td>\n",
       "      <td>99.000000</td>\n",
       "      <td>100.00000</td>\n",
       "      <td>6.910000</td>\n",
       "      <td>1.658972e+09</td>\n",
       "    </tr>\n",
       "    <tr>\n",
       "      <th>max</th>\n",
       "      <td>70.469200</td>\n",
       "      <td>168.864300</td>\n",
       "      <td>85.980000</td>\n",
       "      <td>100.000000</td>\n",
       "      <td>100.00000</td>\n",
       "      <td>16.110000</td>\n",
       "      <td>1.658972e+09</td>\n",
       "    </tr>\n",
       "  </tbody>\n",
       "</table>\n",
       "</div>"
      ],
      "text/plain": [
       "             Lat         Lng   Max Temp    Humidity  Cloudiness  Wind Speed  \\\n",
       "count   5.000000    5.000000   5.000000    5.000000     5.00000    5.000000   \n",
       "mean   22.391900  -18.847540  59.308000   67.600000    50.20000    5.410000   \n",
       "std    46.866125  122.330433  20.623389   40.389355    47.75144    6.539881   \n",
       "min   -46.192700 -159.319000  37.630000    1.000000     0.00000    0.000000   \n",
       "25%     4.933300  -68.591400  47.480000   64.000000    11.00000    1.010000   \n",
       "50%    22.075200  -52.333300  49.370000   74.000000    40.00000    3.020000   \n",
       "75%    60.674500   17.141700  76.080000   99.000000   100.00000    6.910000   \n",
       "max    70.469200  168.864300  85.980000  100.000000   100.00000   16.110000   \n",
       "\n",
       "               Date  \n",
       "count  5.000000e+00  \n",
       "mean   1.658971e+09  \n",
       "std    1.185529e+02  \n",
       "min    1.658971e+09  \n",
       "25%    1.658971e+09  \n",
       "50%    1.658971e+09  \n",
       "75%    1.658972e+09  \n",
       "max    1.658972e+09  "
      ]
     },
     "execution_count": 45,
     "metadata": {},
     "output_type": "execute_result"
    }
   ],
   "source": [
    "# Analyze the dataframe\n",
    "\n",
    "cities_weather_DF.head().describe()"
   ]
  },
  {
   "cell_type": "markdown",
   "metadata": {},
   "source": [
    "## Inspect the data and remove the cities where the humidity > 100%.\n",
    "----\n",
    "Skip this step if there are no cities that have humidity > 100%. "
   ]
  },
  {
   "cell_type": "code",
   "execution_count": 48,
   "metadata": {},
   "outputs": [
    {
     "data": {
      "text/html": [
       "<div>\n",
       "<style scoped>\n",
       "    .dataframe tbody tr th:only-of-type {\n",
       "        vertical-align: middle;\n",
       "    }\n",
       "\n",
       "    .dataframe tbody tr th {\n",
       "        vertical-align: top;\n",
       "    }\n",
       "\n",
       "    .dataframe thead th {\n",
       "        text-align: right;\n",
       "    }\n",
       "</style>\n",
       "<table border=\"1\" class=\"dataframe\">\n",
       "  <thead>\n",
       "    <tr style=\"text-align: right;\">\n",
       "      <th></th>\n",
       "      <th>City</th>\n",
       "      <th>Lat</th>\n",
       "      <th>Lng</th>\n",
       "      <th>Max Temp</th>\n",
       "      <th>Humidity</th>\n",
       "      <th>Cloudiness</th>\n",
       "      <th>Wind Speed</th>\n",
       "      <th>Country</th>\n",
       "      <th>Date</th>\n",
       "    </tr>\n",
       "  </thead>\n",
       "  <tbody>\n",
       "  </tbody>\n",
       "</table>\n",
       "</div>"
      ],
      "text/plain": [
       "Empty DataFrame\n",
       "Columns: [City, Lat, Lng, Max Temp, Humidity, Cloudiness, Wind Speed, Country, Date]\n",
       "Index: []"
      ]
     },
     "execution_count": 48,
     "metadata": {},
     "output_type": "execute_result"
    }
   ],
   "source": [
    "# check if any city has humidity of > 100%\n",
    "\n",
    "cities_weather_DF_humidity_check = cities_weather_DF[cities_weather_DF[\"Humidity\"] >100]\n",
    "cities_weather_DF_humidity_check"
   ]
  },
  {
   "cell_type": "code",
   "execution_count": 49,
   "metadata": {},
   "outputs": [
    {
     "data": {
      "text/plain": [
       "Series([], dtype: int64)"
      ]
     },
     "execution_count": 49,
     "metadata": {},
     "output_type": "execute_result"
    }
   ],
   "source": [
    "#  Get the indices of cities that have humidity over 100%.\n",
    "cities_weather_DF[cities_weather_DF[\"Humidity\"] >100].value_counts()"
   ]
  },
  {
   "cell_type": "code",
   "execution_count": 50,
   "metadata": {
    "scrolled": true
   },
   "outputs": [
    {
     "data": {
      "text/html": [
       "<div>\n",
       "<style scoped>\n",
       "    .dataframe tbody tr th:only-of-type {\n",
       "        vertical-align: middle;\n",
       "    }\n",
       "\n",
       "    .dataframe tbody tr th {\n",
       "        vertical-align: top;\n",
       "    }\n",
       "\n",
       "    .dataframe thead th {\n",
       "        text-align: right;\n",
       "    }\n",
       "</style>\n",
       "<table border=\"1\" class=\"dataframe\">\n",
       "  <thead>\n",
       "    <tr style=\"text-align: right;\">\n",
       "      <th></th>\n",
       "      <th>City</th>\n",
       "      <th>Lat</th>\n",
       "      <th>Lng</th>\n",
       "      <th>Max Temp</th>\n",
       "      <th>Humidity</th>\n",
       "      <th>Cloudiness</th>\n",
       "      <th>Wind Speed</th>\n",
       "      <th>Country</th>\n",
       "      <th>Date</th>\n",
       "    </tr>\n",
       "  </thead>\n",
       "  <tbody>\n",
       "    <tr>\n",
       "      <th>1</th>\n",
       "      <td>cagayan de tawi-tawi</td>\n",
       "      <td>22.0752</td>\n",
       "      <td>-159.3190</td>\n",
       "      <td>85.98</td>\n",
       "      <td>64.0</td>\n",
       "      <td>40.0</td>\n",
       "      <td>16.11</td>\n",
       "      <td>US</td>\n",
       "      <td>1.658971e+09</td>\n",
       "    </tr>\n",
       "    <tr>\n",
       "      <th>2</th>\n",
       "      <td>clyde river</td>\n",
       "      <td>60.6745</td>\n",
       "      <td>17.1417</td>\n",
       "      <td>49.37</td>\n",
       "      <td>74.0</td>\n",
       "      <td>11.0</td>\n",
       "      <td>1.01</td>\n",
       "      <td>SE</td>\n",
       "      <td>1.658971e+09</td>\n",
       "    </tr>\n",
       "    <tr>\n",
       "      <th>3</th>\n",
       "      <td>kapaa</td>\n",
       "      <td>-46.1927</td>\n",
       "      <td>168.8643</td>\n",
       "      <td>47.48</td>\n",
       "      <td>99.0</td>\n",
       "      <td>100.0</td>\n",
       "      <td>3.02</td>\n",
       "      <td>NZ</td>\n",
       "      <td>1.658972e+09</td>\n",
       "    </tr>\n",
       "    <tr>\n",
       "      <th>4</th>\n",
       "      <td>gavle</td>\n",
       "      <td>4.9333</td>\n",
       "      <td>-52.3333</td>\n",
       "      <td>76.08</td>\n",
       "      <td>1.0</td>\n",
       "      <td>0.0</td>\n",
       "      <td>0.00</td>\n",
       "      <td>GF</td>\n",
       "      <td>1.658971e+09</td>\n",
       "    </tr>\n",
       "    <tr>\n",
       "      <th>5</th>\n",
       "      <td>mataura</td>\n",
       "      <td>-34.4187</td>\n",
       "      <td>19.2345</td>\n",
       "      <td>52.23</td>\n",
       "      <td>83.0</td>\n",
       "      <td>0.0</td>\n",
       "      <td>12.39</td>\n",
       "      <td>ZA</td>\n",
       "      <td>1.658972e+09</td>\n",
       "    </tr>\n",
       "  </tbody>\n",
       "</table>\n",
       "</div>"
      ],
      "text/plain": [
       "                   City      Lat       Lng  Max Temp  Humidity  Cloudiness  \\\n",
       "1  cagayan de tawi-tawi  22.0752 -159.3190     85.98      64.0        40.0   \n",
       "2           clyde river  60.6745   17.1417     49.37      74.0        11.0   \n",
       "3                 kapaa -46.1927  168.8643     47.48      99.0       100.0   \n",
       "4                 gavle   4.9333  -52.3333     76.08       1.0         0.0   \n",
       "5               mataura -34.4187   19.2345     52.23      83.0         0.0   \n",
       "\n",
       "   Wind Speed Country          Date  \n",
       "1       16.11      US  1.658971e+09  \n",
       "2        1.01      SE  1.658971e+09  \n",
       "3        3.02      NZ  1.658972e+09  \n",
       "4        0.00      GF  1.658971e+09  \n",
       "5       12.39      ZA  1.658972e+09  "
      ]
     },
     "execution_count": 50,
     "metadata": {},
     "output_type": "execute_result"
    }
   ],
   "source": [
    "# show the cleaned filtered  data\n",
    "cleaned_citites_weather_DF = cities_weather_DF[cities_weather_DF[\"Humidity\"]<100]\n",
    "cleaned_citites_weather_DF.head()"
   ]
  },
  {
   "cell_type": "markdown",
   "metadata": {},
   "source": [
    "## Plotting the Data\n",
    "* Use proper labeling of the plots using plot titles (including date of analysis) and axes labels.\n",
    "* Save the plotted figures as .pngs."
   ]
  },
  {
   "cell_type": "markdown",
   "metadata": {},
   "source": [
    "## Latitude vs. Temperature Plot"
   ]
  },
  {
   "cell_type": "code",
   "execution_count": 51,
   "metadata": {
    "scrolled": true
   },
   "outputs": [
    {
     "data": {
      "image/png": "[encoded data removed]",
      "text/plain": [
       "<Figure size 432x288 with 1 Axes>"
      ]
     },
     "metadata": {
      "needs_background": "light"
     },
     "output_type": "display_data"
    }
   ],
   "source": [
    "Xvalues = cleaned_citites_weather_DF['Lat']\n",
    "Yvalues = cleaned_citites_weather_DF['Max Temp']\n",
    "plt.scatter(Xvalues,Yvalues,marker=\"o\" , edgecolors=\"black\")\n",
    "plt.title(\"City Latitude vs. Max Temperature (7/26/2022)\")\n",
    "plt.xlabel(\"Latitude\")\n",
    "plt.ylabel(\"Max Temperature (F)\")\n",
    "plt.grid(True)\n",
    "plt.savefig(\"output_data/Fig1_City Latitude vs. Max Temperature.png\")\n",
    "plt.show()"
   ]
  },
  {
   "cell_type": "markdown",
   "metadata": {},
   "source": [
    "-  at the equator, tempreatures ranges between 70 to 80 deg F\n",
    "- highest temperatures are experiencced in citites falling on 20 lat"
   ]
  },
  {
   "cell_type": "markdown",
   "metadata": {},
   "source": [
    "## Latitude vs. Humidity Plot"
   ]
  },
  {
   "cell_type": "code",
   "execution_count": 52,
   "metadata": {
    "scrolled": true
   },
   "outputs": [
    {
     "data": {
      "image/png": "[encoded data removed]",
      "text/plain": [
       "<Figure size 432x288 with 1 Axes>"
      ]
     },
     "metadata": {
      "needs_background": "light"
     },
     "output_type": "display_data"
    }
   ],
   "source": [
    "Xvalues = cleaned_citites_weather_DF['Lat']\n",
    "Yvalues = cleaned_citites_weather_DF['Humidity']\n",
    "plt.scatter(Xvalues,Yvalues,marker=\"o\" , edgecolors=\"black\")\n",
    "plt.title(\"City Latitude vs. Humidity (7/26/2022)\")\n",
    "plt.xlabel(\"Latitude\")\n",
    "plt.ylabel(\"Humidity (%)\")\n",
    "plt.grid(True)\n",
    "plt.savefig(\"output_data/Fig2_City Latitude vs. Humidity.png\")\n",
    "plt.show()"
   ]
  },
  {
   "cell_type": "markdown",
   "metadata": {},
   "source": [
    "- At this time of the year humidity is realativly high\n",
    "- Humidity % is irrelevant of the latitude\n"
   ]
  },
  {
   "cell_type": "markdown",
   "metadata": {},
   "source": [
    "## Latitude vs. Cloudiness Plot"
   ]
  },
  {
   "cell_type": "code",
   "execution_count": 53,
   "metadata": {
    "scrolled": true
   },
   "outputs": [
    {
     "data": {
      "image/png": "[encoded data removed]",
      "text/plain": [
       "<Figure size 432x288 with 1 Axes>"
      ]
     },
     "metadata": {
      "needs_background": "light"
     },
     "output_type": "display_data"
    }
   ],
   "source": [
    "Xvalues = cleaned_citites_weather_DF['Lat']\n",
    "Yvalues = cleaned_citites_weather_DF['Cloudiness']\n",
    "plt.scatter(Xvalues,Yvalues,marker=\"o\" , edgecolors=\"black\")\n",
    "plt.title(\" City Latitude vs. Cloudiness (7/26/2022)\")\n",
    "plt.xlabel(\"Latitude\")\n",
    "plt.ylabel(\"Cloudiness (%)\")\n",
    "plt.grid(True)\n",
    "plt.savefig(\"output_data/Fig3_City Latitude vs. Cloudiness.png\")\n",
    "plt.show()"
   ]
  },
  {
   "cell_type": "markdown",
   "metadata": {},
   "source": [
    "- Cloudiness % distribution in cities is irrelative of lattitude"
   ]
  },
  {
   "cell_type": "markdown",
   "metadata": {},
   "source": [
    "## Latitude vs. Wind Speed Plot"
   ]
  },
  {
   "cell_type": "code",
   "execution_count": 54,
   "metadata": {
    "scrolled": true
   },
   "outputs": [
    {
     "data": {
      "image/png": "[encoded data removed]",
      "text/plain": [
       "<Figure size 432x288 with 1 Axes>"
      ]
     },
     "metadata": {
      "needs_background": "light"
     },
     "output_type": "display_data"
    }
   ],
   "source": [
    "Xvalues = cleaned_citites_weather_DF['Lat']\n",
    "Yvalues = cleaned_citites_weather_DF['Wind Speed']\n",
    "plt.scatter(Xvalues,Yvalues,marker=\"o\" , edgecolors=\"black\")\n",
    "plt.title(\"Latitude vs. Wind Speed (7/26/2022)\")\n",
    "plt.xlabel(\"Latitude\")\n",
    "plt.ylabel(\"Wind Speed (mph)\")\n",
    "plt.grid(True)\n",
    "plt.savefig(\"output_data/Fig4_Latitude vs. Wind Speed Plot.png\")\n",
    "plt.show()"
   ]
  },
  {
   "cell_type": "markdown",
   "metadata": {},
   "source": [
    "- cities -40 and 60 lat experience wind speed range btween 0 and 10 mph\n",
    "- highest wind speeds happens in cities near the equator"
   ]
  },
  {
   "cell_type": "markdown",
   "metadata": {},
   "source": [
    "## Linear Regression"
   ]
  },
  {
   "cell_type": "markdown",
   "metadata": {},
   "source": [
    "####  Northern Hemisphere - Max Temp vs. Latitude Linear Regression"
   ]
  },
  {
   "cell_type": "code",
   "execution_count": 55,
   "metadata": {
    "scrolled": false
   },
   "outputs": [
    {
     "name": "stdout",
     "output_type": "stream",
     "text": [
      "The r-squared is: 0.3457913597379231\n"
     ]
    },
    {
     "data": {
      "image/png": "[encoded data removed]",
      "text/plain": [
       "<Figure size 432x288 with 1 Axes>"
      ]
     },
     "metadata": {
      "needs_background": "light"
     },
     "output_type": "display_data"
    }
   ],
   "source": [
    "# filter the northern hemisphere by lat value > 0\n",
    "Northern_Hemisphere_cities = cleaned_citites_weather_DF[cleaned_citites_weather_DF['Lat']>=0]\n",
    "\n",
    "# Add the linear regression equation and line to plot\n",
    "\n",
    "Xvalues = Northern_Hemisphere_cities['Lat']\n",
    "Yvalues = Northern_Hemisphere_cities['Max Temp']\n",
    "\n",
    "(slope, intercept, rvalue, pvalue, stderr) = linregress(Xvalues, Yvalues)\n",
    "regress_values = Xvalues * slope + intercept\n",
    "line_eq = \"y = \" + str(round(slope,2)) + \"x + \" + str(round(intercept,2))\n",
    "\n",
    "plt.scatter(Xvalues,Yvalues,marker=\"o\" , edgecolors=\"black\")\n",
    "\n",
    "plt.plot(Xvalues,regress_values,\"r-\")\n",
    "plt.annotate(line_eq,(6,30),fontsize=15,color=\"red\")\n",
    "\n",
    "\n",
    "\n",
    "plt.xlabel(\"Latitude\")\n",
    "plt.ylabel(\"Max Temperautre(F)\")\n",
    "\n",
    "print(f\"The r-squared is: {rvalue**2}\")\n",
    "\n",
    "plt.savefig(\"output_data/Fig5_Northern Hemisphere - Max Temp vs. Latitude Linear Regression.png\")\n",
    "plt.show()\n"
   ]
  },
  {
   "cell_type": "markdown",
   "metadata": {},
   "source": [
    "- r value shows a weak correlation between the latitude and max temperature for the selected cities\n",
    "- As the slope moves toward the equator, temperature increases"
   ]
  },
  {
   "cell_type": "markdown",
   "metadata": {},
   "source": [
    "- "
   ]
  },
  {
   "cell_type": "markdown",
   "metadata": {},
   "source": [
    "####  Southern Hemisphere - Max Temp vs. Latitude Linear Regression"
   ]
  },
  {
   "cell_type": "code",
   "execution_count": 56,
   "metadata": {
    "scrolled": true
   },
   "outputs": [
    {
     "name": "stdout",
     "output_type": "stream",
     "text": [
      "The r-squared is: 0.6312095877207957\n"
     ]
    },
    {
     "data": {
      "image/png": "[encoded data removed]",
      "text/plain": [
       "<Figure size 432x288 with 1 Axes>"
      ]
     },
     "metadata": {
      "needs_background": "light"
     },
     "output_type": "display_data"
    }
   ],
   "source": [
    "# filter the northern hemisphere by lat value < 0\n",
    "Southern_Hemisphere_cities = cleaned_citites_weather_DF[cleaned_citites_weather_DF['Lat']<0]\n",
    "\n",
    "# Add the linear regression equation and line to plot\n",
    "\n",
    "Xvalues = Southern_Hemisphere_cities['Lat']\n",
    "Yvalues = Southern_Hemisphere_cities['Max Temp']\n",
    "\n",
    "(slope, intercept, rvalue, pvalue, stderr) = linregress(Xvalues, Yvalues)\n",
    "regress_values = Xvalues * slope + intercept\n",
    "line_eq = \"y = \" + str(round(slope,2)) + \"x + \" + str(round(intercept,2))\n",
    "plt.scatter(Xvalues,Yvalues,marker=\"o\" , edgecolors=\"black\")\n",
    "\n",
    "plt.plot(Xvalues,regress_values,\"r-\")\n",
    "plt.annotate(line_eq,(4,1),fontsize=10,color=\"red\")\n",
    "\n",
    "\n",
    "\n",
    "plt.xlabel(\"Latitude\")\n",
    "plt.ylabel(\"Max Temperature (F)\")\n",
    "\n",
    "print(f\"The r-squared is: {rvalue**2}\")\n",
    "plt.savefig(\"output_data/Fig6_Southern Hemisphere - Max Temp vs. Latitude Linear Regression.png\")\n",
    "plt.show()"
   ]
  },
  {
   "cell_type": "markdown",
   "metadata": {},
   "source": [
    "- r value shows moderate correlation btween max tmperuatre and latitude in southeran hemiesphere\n",
    "- as lat moves south temerature decreases"
   ]
  },
  {
   "cell_type": "markdown",
   "metadata": {},
   "source": [
    "####  Northern Hemisphere - Humidity (%) vs. Latitude Linear Regression"
   ]
  },
  {
   "cell_type": "code",
   "execution_count": 57,
   "metadata": {},
   "outputs": [
    {
     "name": "stdout",
     "output_type": "stream",
     "text": [
      "The r-squared is: 0.016858294904941847\n"
     ]
    },
    {
     "data": {
      "image/png": "[encoded data removed]",
      "text/plain": [
       "<Figure size 432x288 with 1 Axes>"
      ]
     },
     "metadata": {
      "needs_background": "light"
     },
     "output_type": "display_data"
    }
   ],
   "source": [
    "# filter the northern hemisphere by lat value > 0\n",
    "Northern_Hemisphere_cities = cleaned_citites_weather_DF[cleaned_citites_weather_DF['Lat']>=0]\n",
    "\n",
    "# Add the linear regression equation and line to plot\n",
    "\n",
    "Xvalues = Northern_Hemisphere_cities['Lat']\n",
    "Yvalues = Northern_Hemisphere_cities['Humidity']\n",
    "\n",
    "(slope, intercept, rvalue, pvalue, stderr) = linregress(Xvalues, Yvalues)\n",
    "regress_values = Xvalues * slope + intercept\n",
    "line_eq = \"y = \" + str(round(slope,2)) + \"x + \" + str(round(intercept,2))\n",
    "plt.scatter(Xvalues,Yvalues,marker=\"o\" , edgecolors=\"black\")\n",
    "\n",
    "plt.plot(Xvalues,regress_values,\"r-\")\n",
    "plt.annotate(line_eq,(4,1),fontsize=15,color=\"red\")\n",
    "\n",
    "\n",
    "\n",
    "plt.xlabel(\"Latitude\")\n",
    "plt.ylabel(\"Humidity (%)\")\n",
    "\n",
    "print(f\"The r-squared is: {rvalue**2}\")\n",
    "\n",
    "plt.savefig(\"output_data/Fig7_Northern Hemisphere - Humidity (%) vs. Latitude Linear Regression.png\")\n",
    "plt.show()"
   ]
  },
  {
   "cell_type": "markdown",
   "metadata": {},
   "source": [
    "- r value shows very none or ver weak correalation btween latitude and humuidity which is apperant in the plot"
   ]
  },
  {
   "cell_type": "markdown",
   "metadata": {},
   "source": [
    "####  Southern Hemisphere - Humidity (%) vs. Latitude Linear Regression"
   ]
  },
  {
   "cell_type": "code",
   "execution_count": 58,
   "metadata": {},
   "outputs": [
    {
     "name": "stdout",
     "output_type": "stream",
     "text": [
      "The r-squared is: 0.004378256527008141\n"
     ]
    },
    {
     "data": {
      "image/png": "[encoded data removed]",
      "text/plain": [
       "<Figure size 432x288 with 1 Axes>"
      ]
     },
     "metadata": {
      "needs_background": "light"
     },
     "output_type": "display_data"
    }
   ],
   "source": [
    "# filter the northern hemisphere by lat value < 0\n",
    "Southern_Hemisphere_cities = cleaned_citites_weather_DF[cleaned_citites_weather_DF['Lat']<0]\n",
    "\n",
    "# Add the linear regression equation and line to plot\n",
    "\n",
    "Xvalues = Southern_Hemisphere_cities['Lat']\n",
    "Yvalues = Southern_Hemisphere_cities['Humidity']\n",
    "\n",
    "(slope, intercept, rvalue, pvalue, stderr) = linregress(Xvalues, Yvalues)\n",
    "regress_values = Xvalues * slope + intercept\n",
    "line_eq = \"y = \" + str(round(slope,2)) + \"x + \" + str(round(intercept,2))\n",
    "plt.scatter(Xvalues,Yvalues,marker=\"o\" , edgecolors=\"black\")\n",
    "\n",
    "plt.plot(Xvalues,regress_values,\"r-\")\n",
    "plt.annotate(line_eq,(4,1),fontsize=10,color=\"red\")\n",
    "\n",
    "\n",
    "plt.title(\"Latitude vs. Humidity (7/26/2022)\")\n",
    "plt.xlabel(\"Latitude\")\n",
    "plt.ylabel(\"Humidity (%)\")\n",
    "\n",
    "print(f\"The r-squared is: {rvalue**2}\")\n",
    "plt.savefig(\"output_data/Fig8_Southern Hemisphere - Humidity (%) vs. Latitude Linear Regression.png\")\n",
    "plt.show()"
   ]
  },
  {
   "cell_type": "markdown",
   "metadata": {},
   "source": [
    "- r value shows very none or ver weak correalation btween latitude and humuidity which is apperant in the plot"
   ]
  },
  {
   "cell_type": "markdown",
   "metadata": {},
   "source": [
    "####  Northern Hemisphere - Cloudiness (%) vs. Latitude Linear Regression"
   ]
  },
  {
   "cell_type": "code",
   "execution_count": 59,
   "metadata": {},
   "outputs": [
    {
     "name": "stdout",
     "output_type": "stream",
     "text": [
      "The r-squared is: 0.002046279322352051\n"
     ]
    },
    {
     "data": {
      "image/png": "[encoded data removed]",
      "text/plain": [
       "<Figure size 432x288 with 1 Axes>"
      ]
     },
     "metadata": {
      "needs_background": "light"
     },
     "output_type": "display_data"
    }
   ],
   "source": [
    "# filter the northern hemisphere by lat value > 0\n",
    "Northern_Hemisphere_cities = cleaned_citites_weather_DF[cleaned_citites_weather_DF['Lat']>=0]\n",
    "\n",
    "# Add the linear regression equation and line to plot\n",
    "\n",
    "Xvalues = Northern_Hemisphere_cities['Lat']\n",
    "Yvalues = Northern_Hemisphere_cities['Cloudiness']\n",
    "\n",
    "(slope, intercept, rvalue, pvalue, stderr) = linregress(Xvalues, Yvalues)\n",
    "regress_values = Xvalues * slope + intercept\n",
    "line_eq = \"y = \" + str(round(slope,2)) + \"x + \" + str(round(intercept,2))\n",
    "plt.scatter(Xvalues,Yvalues,marker=\"o\" , edgecolors=\"black\")\n",
    "\n",
    "plt.plot(Xvalues,regress_values,\"r-\")\n",
    "plt.annotate(line_eq,(4,1),fontsize=10,color=\"red\")\n",
    "\n",
    "\n",
    "\n",
    "plt.xlabel(\"Latitude\")\n",
    "plt.ylabel(\"Cloudiness\")\n",
    "\n",
    "print(f\"The r-squared is: {rvalue**2}\")\n",
    "plt.savefig(\"output_data/Fig9_Northern Hemisphere - Cloudiness (%) vs. Latitude Linear Regression.png\")\n",
    "plt.show()"
   ]
  },
  {
   "cell_type": "markdown",
   "metadata": {},
   "source": [
    "r values shows non existing correlation btween latitude and cloudiness which appearant in the scatter plot"
   ]
  },
  {
   "cell_type": "markdown",
   "metadata": {},
   "source": [
    "####  Southern Hemisphere - Cloudiness (%) vs. Latitude Linear Regression"
   ]
  },
  {
   "cell_type": "code",
   "execution_count": 60,
   "metadata": {},
   "outputs": [
    {
     "name": "stdout",
     "output_type": "stream",
     "text": [
      "The r-squared is: 0.000141469674939743\n"
     ]
    },
    {
     "data": {
      "image/png": "[encoded data removed]",
      "text/plain": [
       "<Figure size 432x288 with 1 Axes>"
      ]
     },
     "metadata": {
      "needs_background": "light"
     },
     "output_type": "display_data"
    }
   ],
   "source": [
    "# filter the northern hemisphere by lat value < 0\n",
    "Southern_Hemisphere_cities = cleaned_citites_weather_DF[cleaned_citites_weather_DF['Lat']<0]\n",
    "\n",
    "# Add the linear regression equation and line to plot\n",
    "\n",
    "Xvalues = Southern_Hemisphere_cities['Lat']\n",
    "Yvalues = Southern_Hemisphere_cities['Cloudiness']\n",
    "\n",
    "(slope, intercept, rvalue, pvalue, stderr) = linregress(Xvalues, Yvalues)\n",
    "regress_values = Xvalues * slope + intercept\n",
    "line_eq = \"y = \" + str(round(slope,2)) + \"x + \" + str(round(intercept,2))\n",
    "plt.scatter(Xvalues,Yvalues,marker=\"o\" , edgecolors=\"black\")\n",
    "\n",
    "plt.plot(Xvalues,regress_values,\"r-\")\n",
    "plt.annotate(line_eq,(4,1),fontsize=10,color=\"red\")\n",
    "\n",
    "\n",
    "plt.title(\"Latitude vs. Cloudiness (7/26/2022)\")\n",
    "plt.xlabel(\"Latitude\")\n",
    "plt.ylabel(\"Cloudiness\")\n",
    "\n",
    "print(f\"The r-squared is: {rvalue**2}\")\n",
    "plt.savefig(\"output_data/Fig10_Southern Hemisphere - Cloudiness (%) vs. Latitude Linear Regression.png\")\n",
    "plt.show()"
   ]
  },
  {
   "cell_type": "markdown",
   "metadata": {},
   "source": [
    "- r value shows non existing correlation btween latitude and cloudiness which appearant in the scatter plot"
   ]
  },
  {
   "cell_type": "markdown",
   "metadata": {},
   "source": [
    "####  Northern Hemisphere - Wind Speed (mph) vs. Latitude Linear Regression"
   ]
  },
  {
   "cell_type": "code",
   "execution_count": 61,
   "metadata": {},
   "outputs": [
    {
     "name": "stdout",
     "output_type": "stream",
     "text": [
      "The r-squared is: 0.001666802911044056\n"
     ]
    },
    {
     "data": {
      "image/png": "[encoded data removed]",
      "text/plain": [
       "<Figure size 432x288 with 1 Axes>"
      ]
     },
     "metadata": {
      "needs_background": "light"
     },
     "output_type": "display_data"
    }
   ],
   "source": [
    "# filter the northern hemisphere by lat value > 0\n",
    "Northern_Hemisphere_cities = cleaned_citites_weather_DF[cleaned_citites_weather_DF['Lat']>=0]\n",
    "\n",
    "# Add the linear regression equation and line to plot\n",
    "\n",
    "Xvalues = Northern_Hemisphere_cities['Lat']\n",
    "Yvalues = Northern_Hemisphere_cities['Wind Speed']\n",
    "\n",
    "(slope, intercept, rvalue, pvalue, stderr) = linregress(Xvalues, Yvalues)\n",
    "regress_values = Xvalues * slope + intercept\n",
    "line_eq = \"y = \" + str(round(slope,2)) + \"x + \" + str(round(intercept,2))\n",
    "plt.scatter(Xvalues,Yvalues,marker=\"o\" , edgecolors=\"black\")\n",
    "\n",
    "plt.plot(Xvalues,regress_values,\"r-\")\n",
    "plt.annotate(line_eq,(4,1),fontsize=15,color=\"red\")\n",
    "\n",
    "\n",
    "plt.title(\"Latitude vs. Wind Speed (7/26/2022)\")\n",
    "plt.xlabel(\"Latitude\")\n",
    "plt.ylabel(\"Wind Speed\")\n",
    "\n",
    "print(f\"The r-squared is: {rvalue**2}\")\n",
    "plt.savefig(\"output_data/Fig11_Northern Hemisphere - Wind Speed (mph) vs. Latitude Linear Regression.png\")\n",
    "plt.show()"
   ]
  },
  {
   "cell_type": "markdown",
   "metadata": {},
   "source": [
    "- r value show non or very weak correlation btween latitude and wind speed as apperant in the plot"
   ]
  },
  {
   "cell_type": "markdown",
   "metadata": {},
   "source": [
    "####  Southern Hemisphere - Wind Speed (mph) vs. Latitude Linear Regression"
   ]
  },
  {
   "cell_type": "code",
   "execution_count": 62,
   "metadata": {},
   "outputs": [
    {
     "name": "stdout",
     "output_type": "stream",
     "text": [
      "The r-squared is: 0.02001922395182762\n"
     ]
    },
    {
     "data": {
      "image/png": "[encoded data removed]",
      "text/plain": [
       "<Figure size 432x288 with 1 Axes>"
      ]
     },
     "metadata": {
      "needs_background": "light"
     },
     "output_type": "display_data"
    }
   ],
   "source": [
    "# filter the northern hemisphere by lat value < 0\n",
    "Southern_Hemisphere_cities = cleaned_citites_weather_DF[cleaned_citites_weather_DF['Lat']<0]\n",
    "\n",
    "# Add the linear regression equation and line to plot\n",
    "\n",
    "Xvalues = Southern_Hemisphere_cities['Lat']\n",
    "Yvalues = Southern_Hemisphere_cities['Wind Speed']\n",
    "\n",
    "(slope, intercept, rvalue, pvalue, stderr) = linregress(Xvalues, Yvalues)\n",
    "regress_values = Xvalues * slope + intercept\n",
    "line_eq = \"y = \" + str(round(slope,2)) + \"x + \" + str(round(intercept,2))\n",
    "plt.scatter(Xvalues,Yvalues,marker=\"o\" , edgecolors=\"black\")\n",
    "\n",
    "plt.plot(Xvalues,regress_values,\"r-\")\n",
    "plt.annotate(line_eq,(4,1),fontsize=10,color=\"red\")\n",
    "\n",
    "\n",
    "\n",
    "plt.xlabel(\"Latitude\")\n",
    "plt.ylabel(\"Wind Speed\")\n",
    "\n",
    "print(f\"The r-squared is: {rvalue**2}\")\n",
    "plt.savefig(\"output_data/Fig12_Southern Hemisphere - Wind Speed (mph) vs. Latitude Linear Regression.png\")\n",
    "plt.show()"
   ]
  },
  {
   "cell_type": "markdown",
   "metadata": {},
   "source": [
    "- r value show non  correlation btween latitude and wind speed as apperant in the plot"
   ]
  },
  {
   "cell_type": "code",
   "execution_count": null,
   "metadata": {},
   "outputs": [],
   "source": []
  }
 ],
 "metadata": {
  "anaconda-cloud": {},
  "kernel_info": {
   "name": "python3"
  },
  "kernelspec": {
   "display_name": "Python 3 (ipykernel)",
   "language": "python",
   "name": "python3"
  },
  "language_info": {
   "codemirror_mode": {
    "name": "ipython",
    "version": 3
   },
   "file_extension": ".py",
   "mimetype": "text/x-python",
   "name": "python",
   "nbconvert_exporter": "python",
   "pygments_lexer": "ipython3",
   "version": "3.9.12"
  },
  "latex_envs": {
   "LaTeX_envs_menu_present": true,
   "autoclose": false,
   "autocomplete": true,
   "bibliofile": "biblio.bib",
   "cite_by": "apalike",
   "current_citInitial": 1,
   "eqLabelWithNumbers": true,
   "eqNumInitial": 1,
   "hotkeys": {
    "equation": "Ctrl-E",
    "itemize": "Ctrl-I"
   },
   "labels_anchors": false,
   "latex_user_defs": false,
   "report_style_numbering": false,
   "user_envs_cfg": false
  },
  "nteract": {
   "version": "0.12.3"
  }
 },
 "nbformat": 4,
 "nbformat_minor": 2
}
